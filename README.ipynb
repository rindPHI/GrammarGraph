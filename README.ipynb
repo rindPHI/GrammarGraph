{
 "cells": [
  {
   "cell_type": "markdown",
   "source": [
    "GrammarGraph lets you build a directed graph from a context-free grammar (CFG).\n",
    "A context-free grammar is a mapping from nonterminals to lists of expansion alternatives.\n",
    "For instance, the following grammar represents a CSV file:"
   ],
   "metadata": {
    "collapsed": false
   }
  },
  {
   "cell_type": "code",
   "execution_count": 79,
   "outputs": [],
   "source": [
    "import string\n",
    "from typing import List, Dict\n",
    "\n",
    "CSV_GRAMMAR: Dict[str, List[str]] = {\n",
    "    '<start>': ['<csvline>'],\n",
    "    '<csvline>': ['<items>'],\n",
    "    '<items>': ['<item>,<items>', '<item>'],\n",
    "    '<item>': ['<letters>'],\n",
    "    '<letters>': ['<letter><letters>', '<letter>'],\n",
    "    '<letter>': list(string.ascii_letters + string.digits + string.punctuation + ' \\t\\n')\n",
    "}"
   ],
   "metadata": {
    "collapsed": false,
    "pycharm": {
     "name": "#%%\n"
    }
   }
  },
  {
   "cell_type": "markdown",
   "source": [
    "This particular representation of a grammar is based on the [Fuzzing Book](https://www.fuzzingbook.org/).\n",
    "Such a grammar can, e.g., be used to create random CSV files (based on Fuzzing Book implementations,\n",
    "this is independent from GrammarGraph):"
   ],
   "metadata": {
    "collapsed": false,
    "pycharm": {
     "name": "#%% md\n"
    }
   }
  },
  {
   "cell_type": "code",
   "execution_count": 80,
   "outputs": [
    {
     "name": "stdout",
     "output_type": "stream",
     "text": [
      "o\n",
      "O#,Y,<Qm,b,)\n",
      "3,Pq,wg,V,\",v\n",
      "C\n",
      "T6,u\n",
      "h*\n",
      "in2,%\n",
      "y,1S!\n",
      "z0\n",
      "F\n"
     ]
    }
   ],
   "source": [
    "from fuzzingbook.GrammarCoverageFuzzer import GrammarCoverageFuzzer\n",
    "\n",
    "fuzzer = GrammarCoverageFuzzer(CSV_GRAMMAR)\n",
    "\n",
    "for _ in range(10):\n",
    "    print(fuzzer.fuzz())"
   ],
   "metadata": {
    "collapsed": false,
    "pycharm": {
     "name": "#%%\n"
    }
   }
  },
  {
   "cell_type": "markdown",
   "source": [
    "Using GrammarGraph, we can visualize this grammar based on GraphViz. To make sure everything\n",
    "fits on the screen, we reduce the number of alternatives for the `<letter>` nonterminal."
   ],
   "metadata": {
    "collapsed": false,
    "pycharm": {
     "name": "#%% md\n"
    }
   }
  },
  {
   "cell_type": "code",
   "execution_count": null,
   "metadata": {
    "collapsed": true,
    "pycharm": {
     "name": "#%%\n",
     "is_executing": true
    }
   },
   "outputs": [],
   "source": [
    "CSV_GRAMMAR[\"<letter>\"] = ['a', 'b', 'c', '1', '2', '3']\n",
    "\n",
    "from grammar_graph.gg import GrammarGraph\n",
    "\n",
    "graph = GrammarGraph.from_grammar(CSV_GRAMMAR)\n",
    "graph.to_dot()"
   ]
  },
  {
   "cell_type": "markdown",
   "source": [
    "We can create and visualize sub graphs:"
   ],
   "metadata": {
    "collapsed": false,
    "pycharm": {
     "name": "#%% md\n"
    }
   }
  },
  {
   "cell_type": "code",
   "execution_count": null,
   "outputs": [],
   "source": [
    "graph.subgraph(\"<letters>\").to_dot()"
   ],
   "metadata": {
    "collapsed": false,
    "pycharm": {
     "name": "#%%\n",
     "is_executing": true
    }
   }
  },
  {
   "cell_type": "markdown",
   "source": [
    "We can also check whether a subgraph is a tree structure (and can thus, e.g., be trivially\n",
    "converted to a regular expression), or whether a node is reachable from another one:"
   ],
   "metadata": {
    "collapsed": false,
    "pycharm": {
     "name": "#%% md\n"
    }
   }
  },
  {
   "cell_type": "code",
   "execution_count": null,
   "outputs": [],
   "source": [
    "graph.subgraph(\"<letter>\").is_tree()"
   ],
   "metadata": {
    "collapsed": false,
    "pycharm": {
     "name": "#%%\n",
     "is_executing": true
    }
   }
  },
  {
   "cell_type": "code",
   "execution_count": null,
   "outputs": [],
   "source": [
    "graph.subgraph(\"<letters>\").is_tree()"
   ],
   "metadata": {
    "collapsed": false,
    "pycharm": {
     "name": "#%%\n",
     "is_executing": true
    }
   }
  },
  {
   "cell_type": "code",
   "execution_count": null,
   "outputs": [],
   "source": [
    "graph.get_node(\"<letters>\").reachable(graph.get_node(\"<letters>\"))"
   ],
   "metadata": {
    "collapsed": false,
    "pycharm": {
     "name": "#%%\n",
     "is_executing": true
    }
   }
  },
  {
   "cell_type": "markdown",
   "source": [
    "You can also create a sub grammar from a sub graph."
   ],
   "metadata": {
    "collapsed": false,
    "pycharm": {
     "name": "#%% md\n"
    }
   }
  },
  {
   "cell_type": "code",
   "execution_count": null,
   "outputs": [],
   "source": [
    "graph.subgraph(\"<letter>\").to_grammar()"
   ],
   "metadata": {
    "collapsed": false,
    "pycharm": {
     "name": "#%%\n",
     "is_executing": true
    }
   }
  },
  {
   "cell_type": "markdown",
   "source": [
    "GrammarGraph features implementations of breadth-first search, filtering, and shortest path\n",
    "discovery (based on Dijkstra's algorithm with Fibonacci heaps). This can, e.g., be used to\n",
    "embed a subtree into a bigger context. For instance, the shortest path from `<items>` to `<letter>` is:"
   ],
   "metadata": {
    "collapsed": false,
    "pycharm": {
     "name": "#%% md\n"
    }
   }
  },
  {
   "cell_type": "code",
   "execution_count": null,
   "outputs": [],
   "source": [
    "[node.symbol for node in graph.shortest_path(graph.get_node(\"<items>\"), graph.get_node(\"<letter>\"))]"
   ],
   "metadata": {
    "collapsed": false,
    "pycharm": {
     "name": "#%%\n",
     "is_executing": true
    }
   }
  }
 ],
 "metadata": {
  "kernelspec": {
   "display_name": "Python 3",
   "language": "python",
   "name": "python3"
  },
  "language_info": {
   "codemirror_mode": {
    "name": "ipython",
    "version": 2
   },
   "file_extension": ".py",
   "mimetype": "text/x-python",
   "name": "python",
   "nbconvert_exporter": "python",
   "pygments_lexer": "ipython2",
   "version": "2.7.6"
  }
 },
 "nbformat": 4,
 "nbformat_minor": 0
}